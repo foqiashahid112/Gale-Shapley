{
  "nbformat": 4,
  "nbformat_minor": 0,
  "metadata": {
    "colab": {
      "name": "Python Implementation for Gale-Shapley",
      "provenance": [],
      "collapsed_sections": [],
      "include_colab_link": true
    },
    "kernelspec": {
      "name": "python3",
      "display_name": "Python 3"
    },
    "language_info": {
      "name": "python"
    }
  },
  "cells": [
    {
      "cell_type": "markdown",
      "metadata": {
        "id": "view-in-github",
        "colab_type": "text"
      },
      "source": [
        "<a href=\"https://colab.research.google.com/github/foqiashahid112/Gale-Shapley/blob/main/Python_Implementation_for_Gale_Shapley.ipynb\" target=\"_parent\"><img src=\"https://colab.research.google.com/assets/colab-badge.svg\" alt=\"Open In Colab\"/></a>"
      ]
    },
    {
      "cell_type": "code",
      "metadata": {
        "colab": {
          "base_uri": "https://localhost:8080/"
        },
        "id": "zo5sjywRMiw3",
        "outputId": "3cf24c7d-7247-46f4-b169-5a6f3593745b"
      },
      "source": [
        "import numpy as np\n",
        "import pandas as pd\n",
        "\n",
        "a = pd.DataFrame.from_dict({'A1':[1,2,3,4],'A2':[2,3,1,4],'A3':[4,2,1,3],'A4':[2,1,3,4]}, \n",
        "                           orient='index', columns=['','','',''])\n",
        "\n",
        "A = {'A1':[1,2,3,4],'A2':[2,3,1,4],'A3':[4,2,1,3],'A4':[2,1,3,4]}\n",
        "\n",
        "# a is the set of rankings from group a, with members A1,A2,A3,A4. This group will\n",
        "# be the groupt that is proposing initially. The numbers refer to the name of \n",
        "# each potential member of group b, i.e. 1 refers to B1.\n",
        "\n",
        "print(A)\n",
        "\n",
        "b = pd.DataFrame.from_dict({'B1':[3,2,4,1],'B2':[1,2,3,4],'B3':[1,2,3,4],'B4':[2,4,1,3]},\n",
        "                           orient = 'index', columns=['','','',''])\n",
        "\n",
        "B = {'B1':[3,2,4,1],'B2':[1,2,3,4],'B3':[1,2,3,4],'B4':[2,4,1,3]}\n",
        "\n",
        "# b is the set of rankings from group b, with members B1,B2,B3,B4. This group will \n",
        "# be the group that is accepting initially. The numbers refer to the name of \n",
        "# each potential member of group a, i.e. 1 refers to A1.\n",
        "\n",
        "print(B)\n",
        "\n",
        "# This is the order of what should happen written out before code is formed\n",
        "# A1 proposes to B1, A2 proposes to B2, A3 proposes to B4, A4 proposes to B2,\n",
        "# but is then rejected because A2 was the better offer in their opinion. \n",
        "# Then A4 proposes to B1 who takes that offer over A1, as A$ is higher ranked.\n",
        "# Then A1 proposes to B2 and is taken over A2. Then A2 proposes to B3 and is taken \n",
        "# as B3 has yet to have a proposal. Thus, that leaves us with the following pairs,\n",
        "# (A1,B2),(A2,B3),(A3,B4),(A4,B1).\n",
        "\n",
        "#values1 = A.values()\n",
        "#print(values1)\n",
        "\n",
        "#values2 = B.values()\n",
        "#print(values2)\n",
        "\n",
        "for value in A.values():\n",
        "  print(value)\n",
        "\n",
        "print()\n",
        "\n",
        "for value in B.values():\n",
        "  print(value)\n",
        "\n"
      ],
      "execution_count": null,
      "outputs": [
        {
          "output_type": "stream",
          "text": [
            "{'A1': [1, 2, 3, 4], 'A2': [2, 3, 1, 4], 'A3': [4, 2, 1, 3], 'A4': [2, 1, 3, 4]}\n",
            "{'B1': [3, 2, 4, 1], 'B2': [1, 2, 3, 4], 'B3': [1, 2, 3, 4], 'B4': [2, 4, 1, 3]}\n",
            "[1, 2, 3, 4]\n",
            "[2, 3, 1, 4]\n",
            "[4, 2, 1, 3]\n",
            "[2, 1, 3, 4]\n",
            "\n",
            "[3, 2, 4, 1]\n",
            "[1, 2, 3, 4]\n",
            "[1, 2, 3, 4]\n",
            "[2, 4, 1, 3]\n"
          ],
          "name": "stdout"
        }
      ]
    },
    {
      "cell_type": "markdown",
      "metadata": {
        "id": "RD5Uaoy4NswE"
      },
      "source": [
        "https://stackoverflow.com/questions/54731910/how-add-label-in-column-for-numpy-array \n",
        "\n",
        "https://realpython.com/iterate-through-dictionary-python/#how-to-iterate-through-a-dictionary-in-python-the-basics\n",
        "\n",
        "https://pandas.pydata.org/docs/reference/api/pandas.DataFrame.from_dict.html"
      ]
    }
  ]
}